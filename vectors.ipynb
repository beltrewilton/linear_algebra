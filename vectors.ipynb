{
 "cells": [
  {
   "cell_type": "markdown",
   "metadata": {},
   "source": [
    "### 1.1 Vectors"
   ]
  },
  {
   "cell_type": "code",
   "execution_count": 1,
   "metadata": {},
   "outputs": [],
   "source": [
    "import numpy as np\n",
    "import matplotlib.pyplot as plt\n",
    "from sympy import *"
   ]
  },
  {
   "cell_type": "code",
   "execution_count": 15,
   "metadata": {},
   "outputs": [
    {
     "name": "stdout",
     "output_type": "stream",
     "text": [
      "len of x: 4\n",
      "pos 3 -7.2\n"
     ]
    }
   ],
   "source": [
    "x = np.array([-1.1, 0.0, 3.6, -7.2])\n",
    "print(\"len of x: %s\" % len(x))\n",
    "print(\"pos 3 %s\" % x[3])"
   ]
  },
  {
   "cell_type": "code",
   "execution_count": 24,
   "metadata": {},
   "outputs": [
    {
     "data": {
      "text/plain": [
       "array([ True,  True,  True,  True])"
      ]
     },
     "execution_count": 24,
     "metadata": {},
     "output_type": "execute_result"
    }
   ],
   "source": [
    "y = x.copy()\n",
    "y == x"
   ]
  },
  {
   "cell_type": "code",
   "execution_count": 28,
   "metadata": {},
   "outputs": [
    {
     "data": {
      "text/plain": [
       "array([ True,  True,  True, False])"
      ]
     },
     "execution_count": 28,
     "metadata": {},
     "output_type": "execute_result"
    }
   ],
   "source": [
    "y[3] = 12\n",
    "y == x"
   ]
  },
  {
   "cell_type": "code",
   "execution_count": 31,
   "metadata": {},
   "outputs": [
    {
     "data": {
      "text/plain": [
       "array([  1,   2,   3,   4, 100, 200, 300])"
      ]
     },
     "execution_count": 31,
     "metadata": {},
     "output_type": "execute_result"
    }
   ],
   "source": [
    "v1 = np.array([1, 2, 3, 4])\n",
    "v2 = np.array([100, 200, 300])\n",
    "v3 = np.concatenate((v1,v2))\n",
    "v3"
   ]
  },
  {
   "cell_type": "code",
   "execution_count": 37,
   "metadata": {},
   "outputs": [
    {
     "name": "stdout",
     "output_type": "stream",
     "text": [
      "[ 3  6  7 -4  5]\n",
      "[ 7 -4]\n",
      "[  3   6 333 444   5]\n"
     ]
    }
   ],
   "source": [
    "x = np.array([3, 6, 7, -4, 5])\n",
    "print(x)\n",
    "print(x[2:4])\n",
    "\n",
    "x[2:4] = [333, 444]\n",
    "\n",
    "print(x)"
   ]
  },
  {
   "cell_type": "code",
   "execution_count": 53,
   "metadata": {},
   "outputs": [
    {
     "name": "stdout",
     "output_type": "stream",
     "text": [
      "[2 3 4 5 6 7 8]\n",
      "[2 4 6 8]\n",
      "\n"
     ]
    }
   ],
   "source": [
    "x = np.array([1,2,3,4,5,6,7,8,9,10,11,12,13,14])\n",
    "print(x[1:8])\n",
    "print(x[1:8:2]) # from pos1 to pos8 counting 2\n",
    "print()"
   ]
  },
  {
   "cell_type": "markdown",
   "metadata": {},
   "source": [
    "#### Unit vectors. We can create ei, the ith unit vector of length n using index"
   ]
  },
  {
   "cell_type": "code",
   "execution_count": 64,
   "metadata": {},
   "outputs": [
    {
     "data": {
      "text/plain": [
       "array([0., 0., 0., 0., 0.])"
      ]
     },
     "execution_count": 64,
     "metadata": {},
     "output_type": "execute_result"
    }
   ],
   "source": [
    "np.zeros(5)"
   ]
  },
  {
   "cell_type": "code",
   "execution_count": 59,
   "metadata": {},
   "outputs": [
    {
     "data": {
      "text/plain": [
       "array([0., 0., 1., 0.])"
      ]
     },
     "execution_count": 59,
     "metadata": {},
     "output_type": "execute_result"
    }
   ],
   "source": [
    "x = np.zeros(4)\n",
    "x[2] = 1\n",
    "x"
   ]
  },
  {
   "cell_type": "code",
   "execution_count": 62,
   "metadata": {},
   "outputs": [
    {
     "data": {
      "text/plain": [
       "array([1., 1., 1., 1., 1., 1., 1.])"
      ]
     },
     "execution_count": 62,
     "metadata": {},
     "output_type": "execute_result"
    }
   ],
   "source": [
    "np.ones(7)"
   ]
  },
  {
   "cell_type": "code",
   "execution_count": 67,
   "metadata": {},
   "outputs": [
    {
     "data": {
      "text/plain": [
       "array([0.777928  , 0.82582813, 0.16864523, 0.34278606, 0.33562084,\n",
       "       0.83002379])"
      ]
     },
     "execution_count": 67,
     "metadata": {},
     "output_type": "execute_result"
    }
   ],
   "source": [
    "np.random.random(6)"
   ]
  },
  {
   "cell_type": "code",
   "execution_count": 88,
   "metadata": {},
   "outputs": [
    {
     "data": {
      "text/plain": [
       "[<matplotlib.lines.Line2D at 0x287467d4280>]"
      ]
     },
     "execution_count": 88,
     "metadata": {},
     "output_type": "execute_result"
    },
    {
     "data": {
      "image/png": "[encoded data removed]",
      "text/plain": [
       "<Figure size 432x288 with 1 Axes>"
      ]
     },
     "metadata": {
      "needs_background": "light"
     },
     "output_type": "display_data"
    }
   ],
   "source": [
    "temps = np.array([ 71, 71, 68, 69, 68, 69, 68, 74, 77, 82, 85, 86, 88, 86,\n",
    "85, 86, 84, 79, 77, 75, 73, 71, 70, 70, 69, 69, 69, 69, 67,\n",
    "68, 68, 73, 76, 77, 82, 84, 84, 81, 80, 78, 79, 78, 73, 72,\n",
    "70, 70, 68, 67 ])\n",
    "\n",
    "plt.ion()\n",
    "plt.figure()\n",
    "plt.plot(temps, '-bo')\n"
   ]
  },
  {
   "cell_type": "markdown",
   "metadata": {},
   "source": [
    "### 1.2 Vector addition\n"
   ]
  },
  {
   "cell_type": "code",
   "execution_count": 97,
   "metadata": {},
   "outputs": [
    {
     "name": "stdout",
     "output_type": "stream",
     "text": [
      "Sum of arrays: [ 6 13  4 10 -2  0 -1]\n",
      "Difference of arrays: [ -2  -3   8   4 -16   0   9]\n"
     ]
    }
   ],
   "source": [
    "x1 = np.array([2, 5, 6, 7, -9, 0, 4])\n",
    "x2 = np.array([4, 8, -2, 3, 7, 0, -5])\n",
    "print(\"Sum of arrays: %s\" % (x1 + x2))\n",
    "print(\"Difference of arrays: %s\" % (x1 - x2))"
   ]
  },
  {
   "cell_type": "markdown",
   "metadata": {},
   "source": [
    "### 1.3 Scalar-vector multiplication"
   ]
  },
  {
   "cell_type": "code",
   "execution_count": 102,
   "metadata": {},
   "outputs": [
    {
     "name": "stdout",
     "output_type": "stream",
     "text": [
      "Sum of scalar + array [ 4  7  8  9 -7  2  6]\n",
      "Mult. of scalar + array [  4  10  12  14 -18   0   8]\n"
     ]
    }
   ],
   "source": [
    "print(\"Sum of scalar + array %s\" % (2 + x1))\n",
    "print(\"Mult. of scalar + array %s\" % (2 * x1))"
   ]
  },
  {
   "cell_type": "code",
   "execution_count": 104,
   "metadata": {},
   "outputs": [
    {
     "data": {
      "text/plain": [
       "array([0.18      , 0.03209877, 0.11188889])"
      ]
     },
     "execution_count": 104,
     "metadata": {},
     "output_type": "execute_result"
    }
   ],
   "source": [
    "# elementwise division\n",
    "# initial and final prices of assets (see page 22).\n",
    "\n",
    "a1 = np.array([20, 40.5, 90])\n",
    "a2 = np.array([23.6, 41.8, 100.07])\n",
    "r = (a2 - a1) / a1\n",
    "r"
   ]
  },
  {
   "cell_type": "markdown",
   "metadata": {},
   "source": [
    "#### Linear combination"
   ]
  },
  {
   "cell_type": "code",
   "execution_count": 107,
   "metadata": {},
   "outputs": [
    {
     "name": "stdout",
     "output_type": "stream",
     "text": [
      "Result: [-2.4  -2.85  7.3 ]\n"
     ]
    }
   ],
   "source": [
    "v1 = np.array([4, 8, 3])\n",
    "v2 = np.array([0, 1.5, 7])\n",
    "alpha = -0.6\n",
    "beta = 1.3\n",
    "c = alpha*v1 + beta*v2\n",
    "print(\"Result: %s\" % c)\n"
   ]
  },
  {
   "cell_type": "code",
   "execution_count": null,
   "metadata": {},
   "outputs": [],
   "source": [
    "# a linear combination function\n",
    "def lincomb(coef, vectors):\n",
    "    return sum(coef[i]*vectors[i] for i in range(len(vectors))) \n",
    "\n",
    "print(\"Func result: %s\" % lincomb([v1, v2], [alpha, beta]) )\n"
   ]
  },
  {
   "cell_type": "markdown",
   "metadata": {},
   "source": [
    "### 1.4 Inner product"
   ]
  },
  {
   "cell_type": "code",
   "execution_count": 115,
   "metadata": {},
   "outputs": [
    {
     "data": {
      "text/plain": [
       "-47"
      ]
     },
     "execution_count": 115,
     "metadata": {},
     "output_type": "execute_result"
    }
   ],
   "source": [
    "a = np.array([-8, 0, 9, 5, 5])\n",
    "b = np.array([3, -2, -7, 5, 3])\n",
    "a @ b"
   ]
  },
  {
   "cell_type": "code",
   "execution_count": 117,
   "metadata": {},
   "outputs": [
    {
     "name": "stdout",
     "output_type": "stream",
     "text": [
      "[1.         0.95238095 0.90702948 0.8638376  0.82270247]\n",
      "375.3237591332829\n"
     ]
    }
   ],
   "source": [
    "# net present value or NPV\n",
    "c = np.array([80, 83, 90, 80.6, 79.03])\n",
    "n = len(c)\n",
    "r = 0.05 \n",
    "d = np.array([(1+r)**-i for i in range(n)])\n",
    "print(d)\n",
    "npv = c @ d\n",
    "print(npv)\n"
   ]
  },
  {
   "cell_type": "code",
   "execution_count": 125,
   "metadata": {},
   "outputs": [
    {
     "data": {
      "text/plain": [
       "14.0"
      ]
     },
     "execution_count": 125,
     "metadata": {},
     "output_type": "execute_result"
    }
   ],
   "source": [
    "# total school-age population\n",
    "s = np.concatenate([np.zeros(5), np.ones(14), np.zeros(81)])\n",
    "x = np.ones(100)\n",
    "s @ x"
   ]
  },
  {
   "cell_type": "code",
   "execution_count": 150,
   "metadata": {},
   "outputs": [
    {
     "data": {
      "text/plain": [
       "array([ 0,  1,  0,  0,  0,  0,  0, -1])"
      ]
     },
     "execution_count": 150,
     "metadata": {},
     "output_type": "execute_result"
    }
   ],
   "source": [
    "p = \"Im happy today, but yesterday I was angry\"\n",
    "s = p.split()\n",
    "u = \"angry\"\n",
    "h = \"happy\"\n",
    "pl = len(s)\n",
    "w = np.array([(-1 if s[i] in u else 0) or (1 if s[i] in h else 0) for i in range(pl)])\n",
    "x = np.ones(pl)\n",
    "w"
   ]
  },
  {
   "cell_type": "markdown",
   "metadata": {},
   "source": [
    "### 1.5 Complexity of vector computations\n"
   ]
  },
  {
   "cell_type": "code",
   "execution_count": 163,
   "metadata": {},
   "outputs": [
    {
     "name": "stdout",
     "output_type": "stream",
     "text": [
      "left: -0.16841897504974046, right: -0.16841897504974046\n"
     ]
    },
    {
     "data": {
      "text/plain": [
       "True"
      ]
     },
     "execution_count": 163,
     "metadata": {},
     "output_type": "execute_result"
    }
   ],
   "source": [
    "a = np.random.random()\n",
    "b = np.random.random()\n",
    "lhs = (a+b) * (a-b)\n",
    "rhs = a**2 - b**2\n",
    "print(\"left: %s, right: %s\" % (lhs, rhs))\n",
    "(lhs == rhs)"
   ]
  },
  {
   "cell_type": "markdown",
   "metadata": {},
   "source": [
    "### Exercises\n"
   ]
  },
  {
   "cell_type": "code",
   "execution_count": 206,
   "metadata": {},
   "outputs": [
    {
     "data": {
      "text/latex": [
       "$\\displaystyle \\left[\\begin{matrix}1\\\\2\\\\1\\end{matrix}\\right]$"
      ],
      "text/plain": [
       "⎡1⎤\n",
       "⎢ ⎥\n",
       "⎢2⎥\n",
       "⎢ ⎥\n",
       "⎣1⎦"
      ]
     },
     "metadata": {},
     "output_type": "display_data"
    },
    {
     "data": {
      "text/plain": [
       "'='"
      ]
     },
     "metadata": {},
     "output_type": "display_data"
    },
    {
     "data": {
      "image/png": "[encoded data removed]",
      "text/latex": [
       "$\\displaystyle \\left( 1, \\  2, \\  2\\right)$"
      ],
      "text/plain": [
       "(1, 2, 2)"
      ]
     },
     "metadata": {},
     "output_type": "display_data"
    }
   ],
   "source": [
    "# vector equation\n",
    "ls = Matrix([1,2,1])\n",
    "rs = (1,2,2)\n",
    "\n",
    "display(ls, '=', rs)"
   ]
  },
  {
   "cell_type": "code",
   "execution_count": 241,
   "metadata": {},
   "outputs": [
    {
     "name": "stdout",
     "output_type": "stream",
     "text": [
      " a: [4 1 2 5 6 6 4 2 3 8]\n",
      " b: [2 1 1 1 4 8 3 9 5 2]\n",
      " c: [15  7 11  6 13  8  2  9 14  5 16 16 10  2  3 16 16  5  5  3]\n",
      "\n",
      "[array([4, 1, 2, 5, 6, 6, 4, 2, 3, 8]), array([2, 1, 1, 1, 4, 8, 3, 9, 5, 2]), array([ 6, 13,  8,  2,  9, 14,  5, 16, 16, 10])]\n"
     ]
    },
    {
     "data": {
      "text/plain": [
       "[array([4, 1, 2, 5, 6, 6, 4, 2, 3, 8]),\n",
       " 1,\n",
       " 7,\n",
       " array([2, 1, 1, 1, 4, 8, 3, 9, 5, 2])]"
      ]
     },
     "execution_count": 241,
     "metadata": {},
     "output_type": "execute_result"
    }
   ],
   "source": [
    "# vector notation\n",
    "a = np.random.randint(1, 10, size=(10))\n",
    "b = np.random.randint(1, 10, size=(10))\n",
    "c = np.random.randint(1, 17, size=(20))\n",
    "print(\" a: %s\\n b: %s\\n c: %s\\n\" % (a, b, c))\n",
    "\n",
    "print([a,b,c[3:13]])\n",
    "\n",
    "[a, 1] + [c[1], b]"
   ]
  },
  {
   "cell_type": "code",
   "execution_count": 262,
   "metadata": {},
   "outputs": [
    {
     "name": "stdout",
     "output_type": "stream",
     "text": [
      "0\n",
      "1\n",
      "2\n",
      "3\n",
      "4\n",
      "5\n",
      "6\n"
     ]
    }
   ],
   "source": [
    "# Periodic energy usage\n",
    "w = np.zeros(168)\n",
    "d = np.random.randint(20, 50, size=24)\n",
    "for i in range(len(w)//24):\n",
    "    print(i)"
   ]
  },
  {
   "cell_type": "code",
   "execution_count": 275,
   "metadata": {},
   "outputs": [
    {
     "data": {
      "text/plain": [
       "array([10,  5,  6,  3,  8,  3])"
      ]
     },
     "metadata": {},
     "output_type": "display_data"
    },
    {
     "data": {
      "text/plain": [
       "array([-5,  1, -3,  5, -5])"
      ]
     },
     "metadata": {},
     "output_type": "display_data"
    }
   ],
   "source": [
    "# vector of differences\n",
    "\n",
    "x = np.array([10, 5, 6, 3, 8, 3])\n",
    "d = x[1:] - x[0:-1]\n",
    "display(x, d)"
   ]
  },
  {
   "cell_type": "code",
   "execution_count": 282,
   "metadata": {},
   "outputs": [
    {
     "data": {
      "text/plain": [
       "array([38,  7, -1, -3, 17, 40, 47,  8, 46, 42, 10, 43, -4, 27, 18, 32, -7,\n",
       "       48, 42, -7])"
      ]
     },
     "metadata": {},
     "output_type": "display_data"
    },
    {
     "data": {
      "text/plain": [
       "array([5, 8, 6, 6, 8, 7, 2, 6, 9, 7, 8, 7, 1, 5, 7, 3, 1, 7, 6, 3])"
      ]
     },
     "metadata": {},
     "output_type": "display_data"
    },
    {
     "data": {
      "text/plain": [
       "array([190,  56,  -6, -18, 136, 280,  94,  48, 414, 294,  80, 301,  -4,\n",
       "       135, 126,  96,  -7, 336, 252, -21])"
      ]
     },
     "metadata": {},
     "output_type": "display_data"
    },
    {
     "data": {
      "text/plain": [
       "2782"
      ]
     },
     "metadata": {},
     "output_type": "display_data"
    }
   ],
   "source": [
    "# proffit and sales vector\n",
    "\n",
    "p = np.random.randint(-10, 50, size=20)\n",
    "display(p)\n",
    "\n",
    "t = np.random.randint(1, 10, size=20)\n",
    "display(t)\n",
    "\n",
    "s = p * t\n",
    "display(s)\n",
    "\n",
    "display(sum(s))"
   ]
  },
  {
   "cell_type": "code",
   "execution_count": 431,
   "metadata": {},
   "outputs": [
    {
     "data": {
      "text/plain": [
       "array([ 0.9375    ,  0.625     ,  0.        ,  0.9375    ,  0.625     ,\n",
       "        2.1875    ,  1.25      ,  2.8125    , 30.91666667, 28.6875    ])"
      ]
     },
     "metadata": {},
     "output_type": "display_data"
    },
    {
     "data": {
      "image/png": "[encoded data removed]",
      "text/latex": [
       "$\\displaystyle 6257.041666666667$"
      ],
      "text/plain": [
       "6257.041666666667"
      ]
     },
     "metadata": {},
     "output_type": "display_data"
    }
   ],
   "source": [
    "# total score\n",
    "r = np.concatenate([np.random.randint(0,10, size=8), np.random.randint(0,120, size=1), np.random.randint(0,160, size=1)])\n",
    "\n",
    "# normalize scale\n",
    "hw = 0.25 * (100/80) * r[0:8] # 25%\n",
    "mt = 0.35 * (100/120) * r[8]       # 35%\n",
    "ft = 0.45 * (100/160) * r[9]       # 45%\n",
    "w = np.concatenate([hw, [mt], [ft]])\n",
    "display(w)\n",
    "\n",
    "s = np.inner(w,r)\n",
    "display(s)\n"
   ]
  },
  {
   "cell_type": "code",
   "execution_count": 442,
   "metadata": {},
   "outputs": [
    {
     "data": {
      "text/plain": [
       "array([2, 5, 6, 8, 0, 8])"
      ]
     },
     "metadata": {},
     "output_type": "display_data"
    },
    {
     "data": {
      "text/plain": [
       "0"
      ]
     },
     "metadata": {},
     "output_type": "display_data"
    }
   ],
   "source": [
    "# word count\n",
    "c = np.array([2, 5, 6, 8, 0, 8])\n",
    "r = np.inner(1, c) # the same vector\n",
    "display(r)\n",
    "\n",
    "display(c[4]) # no word found!\n",
    "\n"
   ]
  },
  {
   "cell_type": "code",
   "execution_count": 450,
   "metadata": {},
   "outputs": [
    {
     "data": {
      "text/plain": [
       "array([[40.  , 40.01, 39.2 ],\n",
       "       [25.02, 26.  , 25.09],\n",
       "       [13.9 , 13.5 , 13.4 ]])"
      ]
     },
     "metadata": {},
     "output_type": "display_data"
    }
   ],
   "source": [
    "# cheapest supplier\n",
    "\n",
    "q = np.array([10, 15, 14])\n",
    "k1 = np.array([40, 40.01, 39.2])\n",
    "k2 = np.array([25.02, 26, 25.09])\n",
    "k3 = np.array([13.90, 13.50, 13.40])\n",
    "p = np.array([k1, k2, k3])\n",
    "\n",
    "display(p)"
   ]
  },
  {
   "cell_type": "code",
   "execution_count": 468,
   "metadata": {},
   "outputs": [
    {
     "data": {
      "text/plain": [
       "array([40, 68, 42, 50, 44, 54, 38, 50, 40, 44])"
      ]
     },
     "execution_count": 468,
     "metadata": {},
     "output_type": "execute_result"
    }
   ],
   "source": [
    "z = np.array([20, 21, 22, 20, 23, 20, 34, 21, 25, 22, 27, 19, 25, 20, 22])\n",
    "M=10\n",
    "np.inner(z[-10:], 2)\n"
   ]
  },
  {
   "cell_type": "code",
   "execution_count": 473,
   "metadata": {},
   "outputs": [
    {
     "data": {
      "text/plain": [
       "array([1.33333333, 1.4       , 1.46666667, 1.33333333, 1.53333333,\n",
       "       1.33333333, 2.26666667, 1.4       , 1.66666667, 1.46666667,\n",
       "       1.8       , 1.26666667, 1.66666667, 1.33333333, 1.46666667])"
      ]
     },
     "execution_count": 473,
     "metadata": {},
     "output_type": "execute_result"
    }
   ],
   "source": [
    "# avg of c/u element of z\n",
    "np.inner(1/len(z), z) "
   ]
  },
  {
   "cell_type": "markdown",
   "metadata": {},
   "source": [
    "### 2.1 Linear functions"
   ]
  },
  {
   "cell_type": "code",
   "execution_count": 482,
   "metadata": {},
   "outputs": [
    {
     "data": {
      "image/png": "[encoded data removed]",
      "text/latex": [
       "$\\displaystyle 4$"
      ],
      "text/plain": [
       "4"
      ]
     },
     "execution_count": 482,
     "metadata": {},
     "output_type": "execute_result"
    }
   ],
   "source": [
    "f = lambda x: x[0] + x[1] - x[3]**2\n",
    "f([3, 5, 1, -2])"
   ]
  },
  {
   "cell_type": "code",
   "execution_count": 490,
   "metadata": {},
   "outputs": [
    {
     "name": "stdout",
     "output_type": "stream",
     "text": [
      "124.2 124.2\n",
      "7.0 7.0\n"
     ]
    }
   ],
   "source": [
    "# superposition\n",
    "a = np.array([2, 5, -4, 7])\n",
    "x = np.array([3, 1, 5, 9])\n",
    "y = np.array([4, -2, 2, 4])\n",
    "\n",
    "alpha = 1.8\n",
    "beta = 1.5\n",
    "\n",
    "lhs = np.inner(alpha*x + beta*y, a)\n",
    "rhs = alpha*np.inner(x,a) + beta*np.inner(y,a)\n",
    "print(rhs, lhs)\n",
    "\n",
    "avg = lambda x: sum(x)/len(x)\n",
    "k = [5, 6, 7, 10]\n",
    "print(avg(k), np.mean(k))\n"
   ]
  },
  {
   "cell_type": "code",
   "execution_count": 2,
   "metadata": {},
   "outputs": [
    {
     "data": {
      "text/plain": [
       "(3.718281828459045, 3.718281828459045)"
      ]
     },
     "execution_count": 2,
     "metadata": {},
     "output_type": "execute_result"
    }
   ],
   "source": [
    "#taylor approximation\n",
    "\n",
    "f = lambda x: x[0] + np.exp(x[1] - x[0])\n",
    "grad_f = lambda z: np.array([1 - np.exp(z[1] - z[0]), np.exp(z[1] - z[0])])\n",
    "z = np.array([1,2])\n",
    "f_hat = lambda x: f(z) + grad_f(z) @ (x -z)\n",
    "\n",
    "f(z), f_hat(z)"
   ]
  },
  {
   "cell_type": "code",
   "execution_count": 3,
   "metadata": {},
   "outputs": [
    {
     "data": {
      "text/plain": [
       "(4.367000016612675, 4.288711371344284)"
      ]
     },
     "execution_count": 3,
     "metadata": {},
     "output_type": "execute_result"
    }
   ],
   "source": [
    "f([2.25, 3]), f_hat([2.25, 3])"
   ]
  },
  {
   "cell_type": "code",
   "execution_count": 4,
   "metadata": {},
   "outputs": [
    {
     "data": {
      "text/plain": [
       "(3.845601015016916, 3.845464646743635)"
      ]
     },
     "execution_count": 4,
     "metadata": {},
     "output_type": "execute_result"
    }
   ],
   "source": [
    "f([1.10, 2.11]), f_hat([1.10, 2.11])"
   ]
  },
  {
   "cell_type": "markdown",
   "metadata": {},
   "source": [
    "### 2.3 Regression model\n"
   ]
  },
  {
   "cell_type": "code",
   "execution_count": 8,
   "metadata": {},
   "outputs": [
    {
     "data": {
      "text/plain": [
       "(8704.3491, 114)"
      ]
     },
     "execution_count": 8,
     "metadata": {},
     "output_type": "execute_result"
    }
   ],
   "source": [
    "# parameters in regression model\n",
    "beta = np.array([153.04, -34.89])\n",
    "v = 45.79\n",
    "y_hat = lambda x: x @ beta + v\n",
    "\n",
    "# evaluate regression model prediction\n",
    "x = np.array([56.78, 0.89])\n",
    "y = 114\n",
    "\n",
    "y_hat(x), y"
   ]
  },
  {
   "cell_type": "code",
   "execution_count": 9,
   "metadata": {},
   "outputs": [
    {
     "data": {
      "text/plain": [
       "(5305.0214000000005, 335)"
      ]
     },
     "execution_count": 9,
     "metadata": {},
     "output_type": "execute_result"
    }
   ],
   "source": [
    "x = np.array([34.78, 1.82])\n",
    "y = 335\n",
    "y_hat(x), y"
   ]
  },
  {
   "cell_type": "code",
   "execution_count": 40,
   "metadata": {},
   "outputs": [
    {
     "data": {
      "image/png": "[encoded data removed]",
      "text/plain": [
       "<Figure size 432x288 with 1 Axes>"
      ]
     },
     "metadata": {
      "needs_background": "light"
     },
     "output_type": "display_data"
    }
   ],
   "source": [
    "# data from https://github.com/jessica-wyleung/VMLS-py\n",
    "from house_sale_data import house_sales_data\n",
    "\n",
    "D = house_sales_data()\n",
    "price = D['price']\n",
    "area = D['area']\n",
    "beds = D['beds']\n",
    "house = np.array([area, beds])\n",
    "\n",
    "# estos dos lineas son los valores claves para la prediccion.\n",
    "v = 54.4017\n",
    "beta = np.array([147.7251, -18.8534])\n",
    "\n",
    "# predicted = v + beta[0]*area + beta[1]*beds\n",
    "predicted_v2 = (beta @ house) + v\n",
    "\n",
    "plt.scatter(price, predicted_v2)\n",
    "plt.plot((0,800),(0,800) ,ls='--', c = 'r')\n",
    "plt.ylim(0,800)\n",
    "plt.xlim(0,800)\n",
    "plt.xlabel('Actual Price')\n",
    "plt.ylabel('Predicted Price')\n",
    "plt.show()\n",
    "\n"
   ]
  },
  {
   "cell_type": "markdown",
   "metadata": {},
   "source": [
    "#### Exercises"
   ]
  },
  {
   "cell_type": "markdown",
   "metadata": {},
   "source": [
    "$f(\\alpha x + \\beta y) \\not= \\alpha f(x) + \\beta f(y)$"
   ]
  },
  {
   "cell_type": "code",
   "execution_count": 39,
   "metadata": {},
   "outputs": [
    {
     "name": "stdout",
     "output_type": "stream",
     "text": [
      "166.5 & 166.49999999999997 >> Not linear\n"
     ]
    }
   ],
   "source": [
    "# Linear or not?\n",
    "def assertv(x, y):\n",
    "    return (\"%s & %s >> %s linear\" % (x,y, (\"Not\", \"is\")[bool(x==y)]))\n",
    "\n",
    "alpha = 0.90\n",
    "beta = 1.08\n",
    "\n",
    "x = np.array([3, 7, 9, 5, -1])\n",
    "y = np.array([4, 6, -2, 4, 8])\n",
    "a = np.array([-3, 7, 5, 6, 2])\n",
    "\n",
    "f = lambda r: a@r\n",
    "\n",
    "# not linear\n",
    "print(assertv(alpha*f(x) + beta*f(y), f(alpha*x + beta*y)))\n",
    "\n",
    "\n"
   ]
  },
  {
   "cell_type": "markdown",
   "metadata": {},
   "source": [
    "$\\hat y = x^{\\intercal}\\beta + v$"
   ]
  },
  {
   "cell_type": "code",
   "execution_count": 52,
   "metadata": {},
   "outputs": [
    {
     "data": {
      "text/plain": [
       "True"
      ]
     },
     "metadata": {},
     "output_type": "display_data"
    },
    {
     "data": {
      "text/plain": [
       "True"
      ]
     },
     "metadata": {},
     "output_type": "display_data"
    },
    {
     "data": {
      "text/plain": [
       "29.78"
      ]
     },
     "metadata": {},
     "output_type": "display_data"
    }
   ],
   "source": [
    "x = np.array([2,3,4,7,8,9,7,5])\n",
    "beta = np.array([6,2,5,1,-9,4,2,1])\n",
    "v = 1.78\n",
    "\n",
    "# pos 3 of vector beta\n",
    "display(beta[2]>0, x[2] > 0)\n",
    "\n",
    "y_hat = x@beta + v\n",
    "\n",
    "display(y_hat)"
   ]
  },
  {
   "cell_type": "code",
   "execution_count": 60,
   "metadata": {},
   "outputs": [
    {
     "data": {
      "text/latex": [
       "$\\displaystyle \\left[\\begin{matrix}1 & 4 & 0 & 0 & 7\\\\0 & 0 & 1 & -2 & 3\\\\0 & 0 & 3 & 1 & 1\\end{matrix}\\right]$"
      ],
      "text/plain": [
       "Matrix([\n",
       "[1, 4, 0,  0, 7],\n",
       "[0, 0, 1, -2, 3],\n",
       "[0, 0, 3,  1, 1]])"
      ]
     },
     "metadata": {},
     "output_type": "display_data"
    },
    {
     "data": {
      "text/plain": [
       "(Matrix([\n",
       " [1, 4, 0, 0,    7],\n",
       " [0, 0, 1, 0,  5/7],\n",
       " [0, 0, 0, 1, -8/7]]),\n",
       " (0, 2, 3))"
      ]
     },
     "metadata": {},
     "output_type": "display_data"
    }
   ],
   "source": [
    "M = Matrix([[1,4,0,0,7], [0,0,1,-2,3], [0,0,3,1,1]])\n",
    "display(M)\n",
    "display(M.rref())"
   ]
  },
  {
   "cell_type": "code",
   "execution_count": 62,
   "metadata": {},
   "outputs": [
    {
     "data": {
      "text/latex": [
       "$\\displaystyle \\left[\\begin{matrix}0 & 1 & 2 & -1\\\\3 & 0 & -3 & 3\\\\2 & 2 & 5 & 3\\\\0 & -2 & 1 & 7\\end{matrix}\\right]$"
      ],
      "text/plain": [
       "Matrix([\n",
       "[0,  1,  2, -1],\n",
       "[3,  0, -3,  3],\n",
       "[2,  2,  5,  3],\n",
       "[0, -2,  1,  7]])"
      ]
     },
     "metadata": {},
     "output_type": "display_data"
    },
    {
     "data": {
      "text/plain": [
       "(Matrix([\n",
       " [1, 0, 0,  2],\n",
       " [0, 1, 0, -3],\n",
       " [0, 0, 1,  1],\n",
       " [0, 0, 0,  0]]),\n",
       " (0, 1, 2))"
      ]
     },
     "metadata": {},
     "output_type": "display_data"
    }
   ],
   "source": [
    "A = Matrix([[0,1,2,-1], [3,0,-3,3], [2,2,5,3], [0,-2,1,7]])\n",
    "display(A)\n",
    "display(A.rref())"
   ]
  },
  {
   "cell_type": "code",
   "execution_count": 65,
   "metadata": {},
   "outputs": [
    {
     "data": {
      "text/latex": [
       "$\\displaystyle \\left[\\begin{matrix}1 & 3 & 1\\\\3 & 10 & 5\\\\1 & 2 & -1\\end{matrix}\\right]$"
      ],
      "text/plain": [
       "Matrix([\n",
       "[1,  3,  1],\n",
       "[3, 10,  5],\n",
       "[1,  2, -1]])"
      ]
     },
     "metadata": {},
     "output_type": "display_data"
    },
    {
     "data": {
      "text/plain": [
       "(Matrix([\n",
       " [1, 0, -5],\n",
       " [0, 1,  2],\n",
       " [0, 0,  0]]),\n",
       " (0, 1))"
      ]
     },
     "metadata": {},
     "output_type": "display_data"
    }
   ],
   "source": [
    "w = Matrix([[1,3,1], [3,10,5], [1,2,-1]])\n",
    "display(w)\n",
    "display(w.rref())"
   ]
  },
  {
   "cell_type": "code",
   "execution_count": 69,
   "metadata": {},
   "outputs": [
    {
     "data": {
      "text/latex": [
       "$\\displaystyle \\left[\\begin{matrix}1 & 0 & -1 & -2 & 3\\\\1 & -1 & -2 & -5 & 1\\\\0 & 2 & 3 & 8 & 3\\end{matrix}\\right]$"
      ],
      "text/plain": [
       "Matrix([\n",
       "[1,  0, -1, -2, 3],\n",
       "[1, -1, -2, -5, 1],\n",
       "[0,  2,  3,  8, 3]])"
      ]
     },
     "metadata": {},
     "output_type": "display_data"
    },
    {
     "data": {
      "text/plain": [
       "(Matrix([\n",
       " [1, 0, 0, 0,  2],\n",
       " [0, 1, 0, 1,  3],\n",
       " [0, 0, 1, 2, -1]]),\n",
       " (0, 1, 2))"
      ]
     },
     "metadata": {},
     "output_type": "display_data"
    }
   ],
   "source": [
    "w = Matrix([[1,0,-1,-2,3], [1,-1,-2,-5,1], [0,2,3,8,3]])\n",
    "display(w)\n",
    "display(w.rref())"
   ]
  },
  {
   "cell_type": "code",
   "execution_count": 72,
   "metadata": {},
   "outputs": [
    {
     "data": {
      "text/latex": [
       "$\\displaystyle \\left[\\begin{matrix}1 & 2 & 3\\\\1 & 3 & 2\\\\3 & -1 & 16\\end{matrix}\\right]$"
      ],
      "text/plain": [
       "Matrix([\n",
       "[1,  2,  3],\n",
       "[1,  3,  2],\n",
       "[3, -1, 16]])"
      ]
     },
     "metadata": {},
     "output_type": "display_data"
    },
    {
     "data": {
      "text/plain": [
       "(Matrix([\n",
       " [1, 0,  5],\n",
       " [0, 1, -1],\n",
       " [0, 0,  0]]),\n",
       " (0, 1))"
      ]
     },
     "metadata": {},
     "output_type": "display_data"
    }
   ],
   "source": [
    "A = Matrix([[1,2,3], [1,3,2], [3, -1,16]])\n",
    "display(A)\n",
    "display(A.rref())"
   ]
  },
  {
   "cell_type": "code",
   "execution_count": 74,
   "metadata": {},
   "outputs": [
    {
     "data": {
      "text/latex": [
       "$\\displaystyle \\left[\\begin{matrix}1 & 2 & 3\\\\1 & 3 & -4\\\\3 & -1 & 7\\end{matrix}\\right]$"
      ],
      "text/plain": [
       "Matrix([\n",
       "[1,  2,  3],\n",
       "[1,  3, -4],\n",
       "[3, -1,  7]])"
      ]
     },
     "metadata": {},
     "output_type": "display_data"
    },
    {
     "data": {
      "text/plain": [
       "(Matrix([\n",
       " [1, 0, 0],\n",
       " [0, 1, 0],\n",
       " [0, 0, 1]]),\n",
       " (0, 1, 2))"
      ]
     },
     "metadata": {},
     "output_type": "display_data"
    }
   ],
   "source": [
    "A = Matrix([[1,2,3], [1,3,-4], [3, -1,7]])\n",
    "display(A)\n",
    "display(A.rref())"
   ]
  },
  {
   "cell_type": "code",
   "execution_count": 79,
   "metadata": {},
   "outputs": [
    {
     "data": {
      "text/latex": [
       "$\\displaystyle \\left[\\begin{matrix}2 & 4 & -2 & 2\\\\0 & 0 & 0 & 0\\\\-1 & -2 & 1 & -1\\end{matrix}\\right]$"
      ],
      "text/plain": [
       "Matrix([\n",
       "[ 2,  4, -2,  2],\n",
       "[ 0,  0,  0,  0],\n",
       "[-1, -2,  1, -1]])"
      ]
     },
     "metadata": {},
     "output_type": "display_data"
    },
    {
     "data": {
      "text/plain": [
       "(Matrix([\n",
       " [1, 2, -1, 1],\n",
       " [0, 0,  0, 0],\n",
       " [0, 0,  0, 0]]),\n",
       " (0,))"
      ]
     },
     "metadata": {},
     "output_type": "display_data"
    }
   ],
   "source": [
    "A = Matrix([[2,4,-2, 2], [0,0,0,0], [-1,-2,1,-1]])\n",
    "display(A)\n",
    "display(A.rref())"
   ]
  },
  {
   "cell_type": "code",
   "execution_count": 82,
   "metadata": {},
   "outputs": [
    {
     "data": {
      "text/latex": [
       "$\\displaystyle \\left[\\begin{matrix}1 & 1 & 0 & -1 & 0\\\\5 & 6 & -1 & 1 & 0\\end{matrix}\\right]$"
      ],
      "text/plain": [
       "Matrix([\n",
       "[1, 1,  0, -1, 0],\n",
       "[5, 6, -1,  1, 0]])"
      ]
     },
     "metadata": {},
     "output_type": "display_data"
    },
    {
     "data": {
      "text/plain": [
       "(Matrix([\n",
       " [1, 0,  1, -7, 0],\n",
       " [0, 1, -1,  6, 0]]),\n",
       " (0, 1))"
      ]
     },
     "metadata": {},
     "output_type": "display_data"
    }
   ],
   "source": [
    "A = Matrix([[1,1,0,-1,0], [5,6,-1,1,0]])\n",
    "display(A)\n",
    "display(A.rref())"
   ]
  },
  {
   "cell_type": "code",
   "execution_count": 87,
   "metadata": {},
   "outputs": [
    {
     "data": {
      "text/latex": [
       "$\\displaystyle \\left[\\begin{matrix}1 & 2 & 3 & 0\\\\-1 & 1 & 3 & 0\\\\3 & 3 & 3 & 0\\\\4 & 1 & -2 & 0\\\\5 & 3 & 1 & 0\\end{matrix}\\right]$"
      ],
      "text/plain": [
       "Matrix([\n",
       "[ 1, 2,  3, 0],\n",
       "[-1, 1,  3, 0],\n",
       "[ 3, 3,  3, 0],\n",
       "[ 4, 1, -2, 0],\n",
       "[ 5, 3,  1, 0]])"
      ]
     },
     "metadata": {},
     "output_type": "display_data"
    },
    {
     "data": {
      "text/plain": [
       "(Matrix([\n",
       " [1, 0, -1, 0],\n",
       " [0, 1,  2, 0],\n",
       " [0, 0,  0, 0],\n",
       " [0, 0,  0, 0],\n",
       " [0, 0,  0, 0]]),\n",
       " (0, 1))"
      ]
     },
     "metadata": {},
     "output_type": "display_data"
    }
   ],
   "source": [
    "B = Matrix([[1,2,3, 0], [-1,1,3, 0], [3,3,3,0], [4,1,-2,0], [5,3,1,0]])\n",
    "display(B)\n",
    "display(B.rref())"
   ]
  },
  {
   "cell_type": "code",
   "execution_count": 4,
   "metadata": {},
   "outputs": [
    {
     "data": {
      "text/latex": [
       "$\\displaystyle \\left[\\begin{matrix}1 & 0 & 2 & 0\\\\2 & 0 & 5 & 0\\\\3 & 0 & 7 & 0\\end{matrix}\\right]$"
      ],
      "text/plain": [
       "Matrix([\n",
       "[1, 0, 2, 0],\n",
       "[2, 0, 5, 0],\n",
       "[3, 0, 7, 0]])"
      ]
     },
     "metadata": {},
     "output_type": "display_data"
    },
    {
     "data": {
      "text/plain": [
       "(Matrix([\n",
       " [1, 0, 0, 0],\n",
       " [0, 0, 1, 0],\n",
       " [0, 0, 0, 0]]),\n",
       " (0, 2))"
      ]
     },
     "metadata": {},
     "output_type": "display_data"
    }
   ],
   "source": [
    "B = Matrix([[1,0,2,0], [2,0,5,0], [3,0,7,0]])\n",
    "display(B)\n",
    "display(B.rref())"
   ]
  },
  {
   "cell_type": "code",
   "execution_count": 9,
   "metadata": {},
   "outputs": [
    {
     "data": {
      "text/latex": [
       "$\\displaystyle \\left[\\begin{matrix}1 & 0 & 0 & 0 & 0 & -1 & 0 & 120\\\\-1 & 1 & 0 & 0 & 0 & 0 & 0 & 0\\\\0 & -1 & 1 & 0 & 0 & 0 & 0 & 50\\\\0 & 0 & -1 & 1 & 0 & 0 & 0 & 0\\\\0 & 0 & 0 & -1 & 1 & 0 & 0 & 150\\\\0 & 0 & 0 & 0 & -1 & 1 & -1 & 0\\\\0 & -1 & 0 & 0 & 0 & 0 & 1 & 50\\end{matrix}\\right]$"
      ],
      "text/plain": [
       "Matrix([\n",
       "[ 1,  0,  0,  0,  0, -1,  0, 120],\n",
       "[-1,  1,  0,  0,  0,  0,  0,   0],\n",
       "[ 0, -1,  1,  0,  0,  0,  0,  50],\n",
       "[ 0,  0, -1,  1,  0,  0,  0,   0],\n",
       "[ 0,  0,  0, -1,  1,  0,  0, 150],\n",
       "[ 0,  0,  0,  0, -1,  1, -1,   0],\n",
       "[ 0, -1,  0,  0,  0,  0,  1,  50]])"
      ]
     },
     "metadata": {},
     "output_type": "display_data"
    },
    {
     "data": {
      "text/plain": [
       "(Matrix([\n",
       " [1, 0, 0, 0, 0, 0, 0, -370],\n",
       " [0, 1, 0, 0, 0, 0, 0, -370],\n",
       " [0, 0, 1, 0, 0, 0, 0, -320],\n",
       " [0, 0, 0, 1, 0, 0, 0, -320],\n",
       " [0, 0, 0, 0, 1, 0, 0, -170],\n",
       " [0, 0, 0, 0, 0, 1, 0, -490],\n",
       " [0, 0, 0, 0, 0, 0, 1, -320]]),\n",
       " (0, 1, 2, 3, 4, 5, 6))"
      ]
     },
     "metadata": {},
     "output_type": "display_data"
    }
   ],
   "source": [
    "# only in-traffic approach.\n",
    "T = Matrix([[1,0,0,0,0,-1,0,120], [-1,1,0,0,0,0,0,0], [0,-1,1,0,0,0,0,50],\n",
    "            [0,0,-1,1,0,0,0,0], [0,0,0,-1,1,0,0,150], [0,0,0,0,-1,1,-1,0],\n",
    "            [0,-1,0,0,0,0,1,50]])\n",
    "display(T)\n",
    "display(T.rref())"
   ]
  },
  {
   "cell_type": "code",
   "execution_count": 12,
   "metadata": {},
   "outputs": [
    {
     "data": {
      "text/latex": [
       "$\\displaystyle \\left[\\begin{matrix}1 & 0 & 0 & 0 & 0 & -1 & 0 & 120\\\\-1 & 1 & 0 & 0 & 0 & 0 & 0 & -100\\\\0 & -1 & 1 & 0 & 0 & 0 & 1 & 50\\\\0 & 0 & -1 & 1 & 0 & 0 & 0 & -130\\\\0 & 0 & 0 & -1 & 1 & 0 & 0 & 150\\\\0 & 0 & 0 & 0 & -1 & 1 & -1 & -90\\\\0 & -1 & 1 & 0 & 0 & 0 & 1 & 50\\end{matrix}\\right]$"
      ],
      "text/plain": [
       "Matrix([\n",
       "[ 1,  0,  0,  0,  0, -1,  0,  120],\n",
       "[-1,  1,  0,  0,  0,  0,  0, -100],\n",
       "[ 0, -1,  1,  0,  0,  0,  1,   50],\n",
       "[ 0,  0, -1,  1,  0,  0,  0, -130],\n",
       "[ 0,  0,  0, -1,  1,  0,  0,  150],\n",
       "[ 0,  0,  0,  0, -1,  1, -1,  -90],\n",
       "[ 0, -1,  1,  0,  0,  0,  1,   50]])"
      ]
     },
     "metadata": {},
     "output_type": "display_data"
    },
    {
     "data": {
      "text/plain": [
       "(Matrix([\n",
       " [1, 0, 0, 0, 0, -1, 0, 120],\n",
       " [0, 1, 0, 0, 0, -1, 0,  20],\n",
       " [0, 0, 1, 0, 0, -1, 1,  70],\n",
       " [0, 0, 0, 1, 0, -1, 1, -60],\n",
       " [0, 0, 0, 0, 1, -1, 1,  90],\n",
       " [0, 0, 0, 0, 0,  0, 0,   0],\n",
       " [0, 0, 0, 0, 0,  0, 0,   0]]),\n",
       " (0, 1, 2, 3, 4))"
      ]
     },
     "metadata": {},
     "output_type": "display_data"
    }
   ],
   "source": [
    "# in-out traffic approach, in-focus.\n",
    "T2 = Matrix([[1,0,0,0,0,-1,0,120], [-1,1,0,0,0,0,0,-100], [0,-1,1,0,0,0,1,50], \n",
    "             [0,0,-1,1,0,0,0,-130], [0,0,0,-1,1,0,0,150], [0,0,0,0,-1,1,-1,-90], \n",
    "             [0,-1,1,0,0,0,1,50]])\n",
    "display(T2)\n",
    "display(T2.rref())"
   ]
  },
  {
   "cell_type": "code",
   "execution_count": 16,
   "metadata": {},
   "outputs": [
    {
     "data": {
      "text/latex": [
       "$\\displaystyle \\left[\\begin{matrix}1 & -1 & 0 & 0 & 0 & 0 & 0 & 100\\\\0 & 1 & -1 & 0 & 0 & 0 & -1 & -50\\\\0 & 0 & 1 & -1 & 0 & 0 & 0 & 130\\\\0 & 0 & 0 & 1 & -1 & 0 & 0 & -150\\\\0 & 0 & 0 & 0 & 1 & -1 & 1 & 90\\\\-1 & 0 & 0 & 0 & 0 & 1 & 0 & -120\\end{matrix}\\right]$"
      ],
      "text/plain": [
       "Matrix([\n",
       "[ 1, -1,  0,  0,  0,  0,  0,  100],\n",
       "[ 0,  1, -1,  0,  0,  0, -1,  -50],\n",
       "[ 0,  0,  1, -1,  0,  0,  0,  130],\n",
       "[ 0,  0,  0,  1, -1,  0,  0, -150],\n",
       "[ 0,  0,  0,  0,  1, -1,  1,   90],\n",
       "[-1,  0,  0,  0,  0,  1,  0, -120]])"
      ]
     },
     "metadata": {},
     "output_type": "display_data"
    },
    {
     "data": {
      "text/plain": [
       "(Matrix([\n",
       " [1, 0, 0, 0, 0, -1, 0, 120],\n",
       " [0, 1, 0, 0, 0, -1, 0,  20],\n",
       " [0, 0, 1, 0, 0, -1, 1,  70],\n",
       " [0, 0, 0, 1, 0, -1, 1, -60],\n",
       " [0, 0, 0, 0, 1, -1, 1,  90],\n",
       " [0, 0, 0, 0, 0,  0, 0,   0]]),\n",
       " (0, 1, 2, 3, 4))"
      ]
     },
     "metadata": {},
     "output_type": "display_data"
    }
   ],
   "source": [
    "T3 = Matrix([[1,-1,0,0,0,0,0,100], [0,1,-1,0,0,0,-1,-50], \n",
    "             [0,0,1,-1,0,0,0,130], [0,0,0,1,-1,0,0,-150], \n",
    "             [0,0,0,0,1,-1,1,90], [-1,0,0,0,0,1,0,-120]])\n",
    "display(T3)\n",
    "display(T3.rref())"
   ]
  },
  {
   "cell_type": "code",
   "execution_count": 44,
   "metadata": {},
   "outputs": [
    {
     "data": {
      "text/latex": [
       "$\\displaystyle \\left[\\begin{matrix}0 & 0 & 1\\\\0 & 0 & 0\\\\0 & 0 & 0\\\\0 & 0 & 0\\end{matrix}\\right]$"
      ],
      "text/plain": [
       "Matrix([\n",
       "[0, 0, 1],\n",
       "[0, 0, 0],\n",
       "[0, 0, 0],\n",
       "[0, 0, 0]])"
      ]
     },
     "metadata": {},
     "output_type": "display_data"
    },
    {
     "data": {
      "text/plain": [
       "(Matrix([\n",
       " [0, 0, 1],\n",
       " [0, 0, 0],\n",
       " [0, 0, 0],\n",
       " [0, 0, 0]]),\n",
       " (2,))"
      ]
     },
     "metadata": {},
     "output_type": "display_data"
    }
   ],
   "source": [
    "Ax = Matrix([[0,0,1], [0, 0, 0], [0, 0, 0], [0, 0, 0]])\n",
    "display(Ax)\n",
    "display(Ax.rref())\n"
   ]
  },
  {
   "cell_type": "code",
   "execution_count": 43,
   "metadata": {},
   "outputs": [
    {
     "data": {
      "text/latex": [
       "$\\displaystyle \\left[\\begin{matrix}0.25\\\\0.25\\\\0.25\\\\0.25\\end{matrix}\\right]$"
      ],
      "text/plain": [
       "Matrix([\n",
       "[0.25],\n",
       "[0.25],\n",
       "[0.25],\n",
       "[0.25]])"
      ]
     },
     "metadata": {},
     "output_type": "display_data"
    },
    {
     "data": {
      "text/latex": [
       "$\\displaystyle \\left[\\begin{matrix}1\\\\1\\\\1\\\\1\\end{matrix}\\right]$"
      ],
      "text/plain": [
       "Matrix([\n",
       "[1],\n",
       "[1],\n",
       "[1],\n",
       "[1]])"
      ]
     },
     "metadata": {},
     "output_type": "display_data"
    },
    {
     "data": {
      "text/latex": [
       "$\\displaystyle \\left[\\begin{matrix}0\\\\0\\\\0\\\\0\\end{matrix}\\right]$"
      ],
      "text/plain": [
       "Matrix([\n",
       "[0],\n",
       "[0],\n",
       "[0],\n",
       "[0]])"
      ]
     },
     "metadata": {},
     "output_type": "display_data"
    }
   ],
   "source": [
    "u = Matrix([0.25, 0.25,0.25, 0.25])\n",
    "display(u)\n",
    "v = Matrix([1,1,1,1])\n",
    "display(v)\n",
    "w = Matrix([1,1,1,1])\n",
    "display((4*u + -3*v) + 2*w)\n"
   ]
  },
  {
   "cell_type": "code",
   "execution_count": 51,
   "metadata": {},
   "outputs": [
    {
     "data": {
      "text/latex": [
       "$\\displaystyle \\left[\\begin{matrix}1 & -2 & 0 & 3 & 0\\\\1 & -2 & 2 & -1 & 0\\\\2 & -4 & 1 & 4 & 0\\end{matrix}\\right]$"
      ],
      "text/plain": [
       "Matrix([\n",
       "[1, -2, 0,  3, 0],\n",
       "[1, -2, 2, -1, 0],\n",
       "[2, -4, 1,  4, 0]])"
      ]
     },
     "metadata": {},
     "output_type": "display_data"
    },
    {
     "data": {
      "text/plain": [
       "(Matrix([\n",
       " [1, -2, 0,  3, 0],\n",
       " [0,  0, 1, -2, 0],\n",
       " [0,  0, 0,  0, 0]]),\n",
       " (0, 2))"
      ]
     },
     "metadata": {},
     "output_type": "display_data"
    }
   ],
   "source": [
    "A = Matrix([[1, -2, 0, 3, 0], [1, -2, 2, -1, 0], [2, -4, 1, 4, 0]])\n",
    "display(A)\n",
    "display(A.rref())"
   ]
  },
  {
   "cell_type": "code",
   "execution_count": 58,
   "metadata": {},
   "outputs": [
    {
     "data": {
      "text/latex": [
       "$\\displaystyle \\left[\\begin{matrix}1 & 5\\\\2 & 2\\\\3 & 0\\end{matrix}\\right]$"
      ],
      "text/plain": [
       "Matrix([\n",
       "[1, 5],\n",
       "[2, 2],\n",
       "[3, 0]])"
      ]
     },
     "metadata": {},
     "output_type": "display_data"
    },
    {
     "data": {
      "text/plain": [
       "(Matrix([\n",
       " [1, 0],\n",
       " [0, 1],\n",
       " [0, 0]]),\n",
       " (0, 1))"
      ]
     },
     "metadata": {},
     "output_type": "display_data"
    }
   ],
   "source": [
    "B = Matrix([[1,5], [2,2], [3,0]])\n",
    "display(B)\n",
    "display(B.rref())"
   ]
  },
  {
   "cell_type": "code",
   "execution_count": 60,
   "metadata": {},
   "outputs": [
    {
     "data": {
      "text/latex": [
       "$\\displaystyle \\left[\\begin{matrix}1 & 1 & 0\\\\1 & 2 & 1\\\\0 & 1 & 3\\end{matrix}\\right]$"
      ],
      "text/plain": [
       "Matrix([\n",
       "[1, 1, 0],\n",
       "[1, 2, 1],\n",
       "[0, 1, 3]])"
      ]
     },
     "metadata": {},
     "output_type": "display_data"
    },
    {
     "data": {
      "text/plain": [
       "(Matrix([\n",
       " [1, 0, 0],\n",
       " [0, 1, 0],\n",
       " [0, 0, 1]]),\n",
       " (0, 1, 2))"
      ]
     },
     "metadata": {},
     "output_type": "display_data"
    }
   ],
   "source": [
    "C = Matrix([[1,1,0], [1,2,1], [0,1,3]])\n",
    "display(C)\n",
    "display(C.rref())"
   ]
  },
  {
   "cell_type": "code",
   "execution_count": 63,
   "metadata": {},
   "outputs": [
    {
     "data": {
      "text/latex": [
       "$\\displaystyle \\left[\\begin{matrix}1 & 0 & 2 & -1\\\\0 & 2 & -2 & 6\\\\2 & -1 & 5 & -5\\end{matrix}\\right]$"
      ],
      "text/plain": [
       "Matrix([\n",
       "[1,  0,  2, -1],\n",
       "[0,  2, -2,  6],\n",
       "[2, -1,  5, -5]])"
      ]
     },
     "metadata": {},
     "output_type": "display_data"
    },
    {
     "data": {
      "text/plain": [
       "(Matrix([\n",
       " [1, 0,  2, -1],\n",
       " [0, 1, -1,  3],\n",
       " [0, 0,  0,  0]]),\n",
       " (0, 1))"
      ]
     },
     "metadata": {},
     "output_type": "display_data"
    }
   ],
   "source": [
    "D = Matrix([[1,0,2,-1], [0,2,-2,6], [2,-1,5,-5]])\n",
    "display(D)\n",
    "display(D.rref())"
   ]
  },
  {
   "cell_type": "code",
   "execution_count": 67,
   "metadata": {},
   "outputs": [
    {
     "data": {
      "text/latex": [
       "$\\displaystyle \\left[\\begin{matrix}1 & 2 & -1 & 1 & 0 & 0\\\\1 & 0 & 2 & 0 & 1 & 0\\end{matrix}\\right]$"
      ],
      "text/plain": [
       "Matrix([\n",
       "[1, 2, -1, 1, 0, 0],\n",
       "[1, 0,  2, 0, 1, 0]])"
      ]
     },
     "metadata": {},
     "output_type": "display_data"
    },
    {
     "data": {
      "text/plain": [
       "(Matrix([\n",
       " [1, 0,    2,   0,    1, 0],\n",
       " [0, 1, -3/2, 1/2, -1/2, 0]]),\n",
       " (0, 1))"
      ]
     },
     "metadata": {},
     "output_type": "display_data"
    }
   ],
   "source": [
    "H1 = Matrix([[1,2,-1,1,0,0], [1,0,2,0,1,0]])\n",
    "display(H1)\n",
    "display(H1.rref())"
   ]
  },
  {
   "cell_type": "code",
   "execution_count": 69,
   "metadata": {},
   "outputs": [
    {
     "data": {
      "text/latex": [
       "$\\displaystyle \\left[\\begin{matrix}1 & 3 & -1 & 1 & 0 & 0\\\\2 & 2 & 1 & 0 & 1 & 0\\\\0 & 4 & -3 & 0 & 0 & 1\\end{matrix}\\right]$"
      ],
      "text/plain": [
       "Matrix([\n",
       "[1, 3, -1, 1, 0, 0],\n",
       "[2, 2,  1, 0, 1, 0],\n",
       "[0, 4, -3, 0, 0, 1]])"
      ]
     },
     "metadata": {},
     "output_type": "display_data"
    },
    {
     "data": {
      "text/plain": [
       "(Matrix([\n",
       " [1, 0,  5/4, 0,  1/2, -1/4],\n",
       " [0, 1, -3/4, 0,    0,  1/4],\n",
       " [0, 0,    0, 1, -1/2, -1/2]]),\n",
       " (0, 1, 3))"
      ]
     },
     "metadata": {},
     "output_type": "display_data"
    }
   ],
   "source": [
    "H2 = Matrix([[1,3,-1,1,0,0], [2,2,1,0,1,0], [0,4,-3,0,0,1]])\n",
    "display(H2)\n",
    "display(H2.rref())"
   ]
  },
  {
   "cell_type": "code",
   "execution_count": 77,
   "metadata": {},
   "outputs": [
    {
     "data": {
      "text/latex": [
       "$\\displaystyle \\left[\\begin{matrix}1 & 1 & 0 & 1 & 0 & 0\\\\1 & 2 & -3 & 0 & 1 & 0\\\\1 & 1 & 1 & 0 & 0 & 1\\end{matrix}\\right]$"
      ],
      "text/plain": [
       "Matrix([\n",
       "[1, 1,  0, 1, 0, 0],\n",
       "[1, 2, -3, 0, 1, 0],\n",
       "[1, 1,  1, 0, 0, 1]])"
      ]
     },
     "metadata": {},
     "output_type": "display_data"
    },
    {
     "data": {
      "text/plain": [
       "(Matrix([\n",
       " [1, 0, 0,  5, -1, -3],\n",
       " [0, 1, 0, -4,  1,  3],\n",
       " [0, 0, 1, -1,  0,  1]]),\n",
       " (0, 1, 2))"
      ]
     },
     "metadata": {},
     "output_type": "display_data"
    },
    {
     "data": {
      "text/latex": [
       "$\\displaystyle \\left[\\begin{matrix}5 & -1 & -3\\\\-4 & 1 & 3\\\\-1 & 0 & 1\\end{matrix}\\right]$"
      ],
      "text/plain": [
       "Matrix([\n",
       "[ 5, -1, -3],\n",
       "[-4,  1,  3],\n",
       "[-1,  0,  1]])"
      ]
     },
     "metadata": {},
     "output_type": "display_data"
    },
    {
     "data": {
      "text/plain": [
       "(Matrix([\n",
       " [1, 0, 0],\n",
       " [0, 1, 0],\n",
       " [0, 0, 1]]),\n",
       " (0, 1, 2))"
      ]
     },
     "metadata": {},
     "output_type": "display_data"
    }
   ],
   "source": [
    "H3 = Matrix([[1,1,0,1,0,0], [1,2,-3,0,1,0], [1,1,1,0,0,1]])\n",
    "display(H3)\n",
    "display(H3.rref())\n",
    "\n",
    "H4 = Matrix([[5,-1,-3], \n",
    "             [-4,1,3], \n",
    "             [-1,0,1]])\n",
    "display(H4)\n",
    "display(H4.rref())"
   ]
  },
  {
   "cell_type": "code",
   "execution_count": 84,
   "metadata": {},
   "outputs": [
    {
     "data": {
      "text/latex": [
       "$\\displaystyle \\left[\\begin{matrix}1 & 1 & 0 & 3\\\\1 & 2 & -3 & 2\\\\1 & 1 & 1 & 1\\\\7 & 0 & 1 & 0\\end{matrix}\\right]$"
      ],
      "text/plain": [
       "Matrix([\n",
       "[1, 1,  0, 3],\n",
       "[1, 2, -3, 2],\n",
       "[1, 1,  1, 1],\n",
       "[7, 0,  1, 0]])"
      ]
     },
     "metadata": {},
     "output_type": "display_data"
    },
    {
     "data": {
      "text/plain": [
       "(Matrix([\n",
       " [1, 0, 0, 0],\n",
       " [0, 1, 0, 0],\n",
       " [0, 0, 1, 0],\n",
       " [0, 0, 0, 1]]),\n",
       " (0, 1, 2, 3))"
      ]
     },
     "metadata": {},
     "output_type": "display_data"
    }
   ],
   "source": [
    "H5 = Matrix([[1,1,0, 3],\n",
    "             [1,2,-3, 2],\n",
    "             [1,1,1, 1],\n",
    "             [7,0,1, 0]])\n",
    "display(H5)\n",
    "display(H5.rref())"
   ]
  },
  {
   "cell_type": "code",
   "execution_count": 89,
   "metadata": {},
   "outputs": [
    {
     "data": {
      "text/latex": [
       "$\\displaystyle \\left[\\begin{matrix}1 & 3 & 0 & 1 & 0 & 0\\\\7 & 2 & 5 & 0 & 1 & 0\\\\0 & 1 & 3 & 0 & 0 & 1\\end{matrix}\\right]$"
      ],
      "text/plain": [
       "Matrix([\n",
       "[1, 3, 0, 1, 0, 0],\n",
       "[7, 2, 5, 0, 1, 0],\n",
       "[0, 1, 3, 0, 0, 1]])"
      ]
     },
     "metadata": {},
     "output_type": "display_data"
    },
    {
     "data": {
      "text/plain": [
       "(Matrix([\n",
       " [1, 0, 0, -1/62,  9/62, -15/62],\n",
       " [0, 1, 0, 21/62, -3/62,   5/62],\n",
       " [0, 0, 1, -7/62,  1/62,  19/62]]),\n",
       " (0, 1, 2))"
      ]
     },
     "metadata": {},
     "output_type": "display_data"
    }
   ],
   "source": [
    "T = Matrix([\n",
    "    [1,3,0,1,0,0],\n",
    "    [7,2,5,0,1,0],\n",
    "    [0,1,3,0,0,1]\n",
    "])\n",
    "display(T)\n",
    "display(T.rref())"
   ]
  },
  {
   "cell_type": "code",
   "execution_count": 91,
   "metadata": {},
   "outputs": [
    {
     "data": {
      "text/latex": [
       "$\\displaystyle \\left[\\begin{matrix}1 & 1 & 2\\\\0 & 1 & -1\\\\1 & 0 & 4\\end{matrix}\\right]$"
      ],
      "text/plain": [
       "Matrix([\n",
       "[1, 1,  2],\n",
       "[0, 1, -1],\n",
       "[1, 0,  4]])"
      ]
     },
     "metadata": {},
     "output_type": "display_data"
    },
    {
     "data": {
      "text/plain": [
       "(Matrix([\n",
       " [1, 0, 0],\n",
       " [0, 1, 0],\n",
       " [0, 0, 1]]),\n",
       " (0, 1, 2))"
      ]
     },
     "metadata": {},
     "output_type": "display_data"
    }
   ],
   "source": [
    "V = Matrix([\n",
    "    [1,1,2],\n",
    "    [0,1,-1],\n",
    "    [1,0,4]\n",
    "])\n",
    "display(V)\n",
    "display(V.rref())"
   ]
  },
  {
   "cell_type": "code",
   "execution_count": 93,
   "metadata": {},
   "outputs": [
    {
     "data": {
      "text/latex": [
       "$\\displaystyle \\left[\\begin{matrix}0 & 2\\\\0 & -1\\end{matrix}\\right]$"
      ],
      "text/plain": [
       "Matrix([\n",
       "[0,  2],\n",
       "[0, -1]])"
      ]
     },
     "metadata": {},
     "output_type": "display_data"
    },
    {
     "data": {
      "text/plain": [
       "(Matrix([\n",
       " [0, 1],\n",
       " [0, 0]]),\n",
       " (1,))"
      ]
     },
     "metadata": {},
     "output_type": "display_data"
    }
   ],
   "source": [
    "L = Matrix([\n",
    "    [0,2],\n",
    "    [0,-1]\n",
    "])\n",
    "display(L)\n",
    "display(L.rref())"
   ]
  },
  {
   "cell_type": "code",
   "execution_count": 104,
   "metadata": {},
   "outputs": [
    {
     "data": {
      "text/latex": [
       "$\\displaystyle - t^{2} + 4 t + 5$"
      ],
      "text/plain": [
       "-t**2 + 4*t + 5"
      ]
     },
     "execution_count": 104,
     "metadata": {},
     "output_type": "execute_result"
    }
   ],
   "source": [
    "t = symbols('t')\n",
    "simplify(1+t+2*(2+t**2)+3*(t-t**2))"
   ]
  },
  {
   "cell_type": "code",
   "execution_count": 107,
   "metadata": {},
   "outputs": [
    {
     "data": {
      "text/latex": [
       "$\\displaystyle \\left[\\begin{matrix}1 & 2 & 5\\\\3 & 4 & 3\\\\-3 & -2 & 9\\end{matrix}\\right]$"
      ],
      "text/plain": [
       "Matrix([\n",
       "[ 1,  2, 5],\n",
       "[ 3,  4, 3],\n",
       "[-3, -2, 9]])"
      ]
     },
     "metadata": {},
     "output_type": "display_data"
    },
    {
     "data": {
      "text/plain": [
       "(Matrix([\n",
       " [1, 0, -7],\n",
       " [0, 1,  6],\n",
       " [0, 0,  0]]),\n",
       " (0, 1))"
      ]
     },
     "metadata": {},
     "output_type": "display_data"
    }
   ],
   "source": [
    "R = Matrix([\n",
    "    [1,2,5],\n",
    "    [3,4,3],\n",
    "    [-3,-2,9]\n",
    "])\n",
    "display(R)\n",
    "display(R.rref())"
   ]
  },
  {
   "cell_type": "code",
   "execution_count": 110,
   "metadata": {},
   "outputs": [
    {
     "data": {
      "text/latex": [
       "$\\displaystyle \\left[\\begin{matrix}1 & 3 & 0 & 2\\\\2 & 1 & 0 & 5\\\\3 & 3 & 0 & 7\\\\4 & 1 & 0 & 10\\end{matrix}\\right]$"
      ],
      "text/plain": [
       "Matrix([\n",
       "[1, 3, 0,  2],\n",
       "[2, 1, 0,  5],\n",
       "[3, 3, 0,  7],\n",
       "[4, 1, 0, 10]])"
      ]
     },
     "metadata": {},
     "output_type": "display_data"
    },
    {
     "data": {
      "text/plain": [
       "(Matrix([\n",
       " [1, 0, 0, 0],\n",
       " [0, 1, 0, 0],\n",
       " [0, 0, 0, 1],\n",
       " [0, 0, 0, 0]]),\n",
       " (0, 1, 3))"
      ]
     },
     "metadata": {},
     "output_type": "display_data"
    }
   ],
   "source": [
    "B = Matrix([\n",
    "    [1,3,0,2],\n",
    "    [2,1,0,5],\n",
    "    [3,3,0,7],\n",
    "    [4,1,0,10]\n",
    "])\n",
    "display(B)\n",
    "display(B.rref())"
   ]
  },
  {
   "cell_type": "code",
   "execution_count": 112,
   "metadata": {},
   "outputs": [
    {
     "data": {
      "text/latex": [
       "$\\displaystyle \\left[\\begin{matrix}1 & 1 & 1 & 2\\\\2 & 2 & 3 & 3\\\\3 & 3 & 4 & 4\\\\4 & 5 & 5 & 5\\end{matrix}\\right]$"
      ],
      "text/plain": [
       "Matrix([\n",
       "[1, 1, 1, 2],\n",
       "[2, 2, 3, 3],\n",
       "[3, 3, 4, 4],\n",
       "[4, 5, 5, 5]])"
      ]
     },
     "metadata": {},
     "output_type": "display_data"
    },
    {
     "data": {
      "text/plain": [
       "(Matrix([\n",
       " [1, 0, 0, 0],\n",
       " [0, 1, 0, 0],\n",
       " [0, 0, 1, 0],\n",
       " [0, 0, 0, 1]]),\n",
       " (0, 1, 2, 3))"
      ]
     },
     "metadata": {},
     "output_type": "display_data"
    }
   ],
   "source": [
    "C = Matrix([\n",
    "    [1,1,1,2],\n",
    "    [2,2,3,3],\n",
    "    [3,3,4,4],\n",
    "    [4,5,5,5]\n",
    "])\n",
    "display(C)\n",
    "display(C.rref())"
   ]
  },
  {
   "cell_type": "code",
   "execution_count": 114,
   "metadata": {},
   "outputs": [
    {
     "data": {
      "text/latex": [
       "$\\displaystyle \\left[\\begin{matrix}0 & 2 & 0 & 0\\\\1 & 0 & 3 & 0\\\\1 & 1 & 0 & 4\\\\1 & 1 & 1 & 0\\end{matrix}\\right]$"
      ],
      "text/plain": [
       "Matrix([\n",
       "[0, 2, 0, 0],\n",
       "[1, 0, 3, 0],\n",
       "[1, 1, 0, 4],\n",
       "[1, 1, 1, 0]])"
      ]
     },
     "metadata": {},
     "output_type": "display_data"
    },
    {
     "data": {
      "text/plain": [
       "(Matrix([\n",
       " [1, 0, 0, 0],\n",
       " [0, 1, 0, 0],\n",
       " [0, 0, 1, 0],\n",
       " [0, 0, 0, 1]]),\n",
       " (0, 1, 2, 3))"
      ]
     },
     "metadata": {},
     "output_type": "display_data"
    }
   ],
   "source": [
    "E = Matrix([\n",
    "    [0,2,0,0],\n",
    "    [1,0,3,0],\n",
    "    [1,1,0,4],\n",
    "    [1,1,1,0]\n",
    "])\n",
    "display(E)\n",
    "display(E.rref())"
   ]
  },
  {
   "cell_type": "code",
   "execution_count": 116,
   "metadata": {},
   "outputs": [
    {
     "data": {
      "text/latex": [
       "$\\displaystyle \\left[\\begin{matrix}1 & 5 & -2 & 1\\\\1 & 2 & -2 & 3\\\\1 & -8 & -2 & 1\\\\1 & 4 & -2 & 5\\end{matrix}\\right]$"
      ],
      "text/plain": [
       "Matrix([\n",
       "[1,  5, -2, 1],\n",
       "[1,  2, -2, 3],\n",
       "[1, -8, -2, 1],\n",
       "[1,  4, -2, 5]])"
      ]
     },
     "metadata": {},
     "output_type": "display_data"
    },
    {
     "data": {
      "text/plain": [
       "(Matrix([\n",
       " [1, 0, -2, 0],\n",
       " [0, 1,  0, 0],\n",
       " [0, 0,  0, 1],\n",
       " [0, 0,  0, 0]]),\n",
       " (0, 1, 3))"
      ]
     },
     "metadata": {},
     "output_type": "display_data"
    }
   ],
   "source": [
    "F = Matrix([\n",
    "    [1,5,-2,1],\n",
    "    [1,2,-2,3],\n",
    "    [1,-8,-2,1],\n",
    "    [1,4,-2,5]\n",
    "])\n",
    "display(F)\n",
    "display(F.rref())"
   ]
  },
  {
   "cell_type": "code",
   "execution_count": 120,
   "metadata": {},
   "outputs": [
    {
     "data": {
      "text/latex": [
       "$\\displaystyle \\left[\\begin{matrix}1 & 3 & 1 & 2\\\\0 & 0 & 0 & 0\\\\1 & 1 & 2 & -3\\\\1 & 0 & 4 & 5\\end{matrix}\\right]$"
      ],
      "text/plain": [
       "Matrix([\n",
       "[1, 3, 1,  2],\n",
       "[0, 0, 0,  0],\n",
       "[1, 1, 2, -3],\n",
       "[1, 0, 4,  5]])"
      ]
     },
     "metadata": {},
     "output_type": "display_data"
    },
    {
     "data": {
      "text/plain": [
       "(Matrix([\n",
       " [1, 0, 0, -23],\n",
       " [0, 1, 0,   6],\n",
       " [0, 0, 1,   7],\n",
       " [0, 0, 0,   0]]),\n",
       " (0, 1, 2))"
      ]
     },
     "metadata": {},
     "output_type": "display_data"
    }
   ],
   "source": [
    "G = Matrix([\n",
    "    [1,3,1,2],\n",
    "    [0,0,0,0],\n",
    "    [1,1,2,-3],\n",
    "    [1,0,4,5]\n",
    "])\n",
    "display(G)\n",
    "display(G.rref())"
   ]
  },
  {
   "cell_type": "code",
   "execution_count": 122,
   "metadata": {},
   "outputs": [
    {
     "data": {
      "text/latex": [
       "$\\displaystyle \\left[\\begin{matrix}1 & 0\\\\0 & 0\\\\0 & 1\\\\0 & 0\\\\0 & 0\\end{matrix}\\right]$"
      ],
      "text/plain": [
       "Matrix([\n",
       "[1, 0],\n",
       "[0, 0],\n",
       "[0, 1],\n",
       "[0, 0],\n",
       "[0, 0]])"
      ]
     },
     "metadata": {},
     "output_type": "display_data"
    },
    {
     "data": {
      "text/plain": [
       "(Matrix([\n",
       " [1, 0],\n",
       " [0, 1],\n",
       " [0, 0],\n",
       " [0, 0],\n",
       " [0, 0]]),\n",
       " (0, 1))"
      ]
     },
     "metadata": {},
     "output_type": "display_data"
    }
   ],
   "source": [
    "W = Matrix([\n",
    "    [1,0],\n",
    "    [0,0],\n",
    "    [0,1],\n",
    "    [0,0],\n",
    "    [0,0]\n",
    "])\n",
    "display(W)\n",
    "display(W.rref())"
   ]
  },
  {
   "cell_type": "code",
   "execution_count": 124,
   "metadata": {},
   "outputs": [
    {
     "data": {
      "text/latex": [
       "$\\displaystyle \\left[\\begin{matrix}3 & 1 & 1 & -2 & 0\\\\-1 & -2 & 3 & -1 & 0\\\\1 & -3 & 7 & -4 & 0\\\\-3 & 4 & -11 & 7 & 0\\end{matrix}\\right]$"
      ],
      "text/plain": [
       "Matrix([\n",
       "[ 3,  1,   1, -2, 0],\n",
       "[-1, -2,   3, -1, 0],\n",
       "[ 1, -3,   7, -4, 0],\n",
       "[-3,  4, -11,  7, 0]])"
      ]
     },
     "metadata": {},
     "output_type": "display_data"
    },
    {
     "data": {
      "text/plain": [
       "(Matrix([\n",
       " [1, 0,  1, -1, 0],\n",
       " [0, 1, -2,  1, 0],\n",
       " [0, 0,  0,  0, 0],\n",
       " [0, 0,  0,  0, 0]]),\n",
       " (0, 1))"
      ]
     },
     "metadata": {},
     "output_type": "display_data"
    }
   ],
   "source": [
    "A = Matrix([\n",
    "    [3,1,1,-2,0],\n",
    "    [-1,-2,3,-1,0],\n",
    "    [1,-3,7,-4,0],\n",
    "    [-3,4,-11,7,0]\n",
    "])\n",
    "display(A)\n",
    "display(A.rref())"
   ]
  },
  {
   "cell_type": "code",
   "execution_count": 153,
   "metadata": {},
   "outputs": [
    {
     "data": {
      "text/plain": [
       "(Matrix([\n",
       " [1, 0],\n",
       " [0, 1]]),\n",
       " (0, 1))"
      ]
     },
     "metadata": {},
     "output_type": "display_data"
    },
    {
     "data": {
      "text/plain": [
       "(Matrix([\n",
       " [1, -1/2],\n",
       " [0,    0]]),\n",
       " (0,))"
      ]
     },
     "metadata": {},
     "output_type": "display_data"
    }
   ],
   "source": [
    "W = Matrix([\n",
    "    [3,1],\n",
    "    [1,2]\n",
    "])\n",
    "display(W.rref())\n",
    "\n",
    "\n",
    "M = Matrix([\n",
    "    [2,-1],\n",
    "    [0,0]\n",
    "])\n",
    "display(M.rref())"
   ]
  },
  {
   "cell_type": "code",
   "execution_count": 155,
   "metadata": {},
   "outputs": [
    {
     "data": {
      "text/latex": [
       "$\\displaystyle \\left[\\begin{matrix}5 & 2 & 5\\\\2 & 2 & 4\\end{matrix}\\right]$"
      ],
      "text/plain": [
       "Matrix([\n",
       "[5, 2, 5],\n",
       "[2, 2, 4]])"
      ]
     },
     "metadata": {},
     "output_type": "display_data"
    },
    {
     "data": {
      "text/plain": [
       "(Matrix([\n",
       " [1, 0, 1/3],\n",
       " [0, 1, 5/3]]),\n",
       " (0, 1))"
      ]
     },
     "metadata": {},
     "output_type": "display_data"
    }
   ],
   "source": [
    "A = Matrix([\n",
    "    [5,2,5],\n",
    "    [2,2,4]\n",
    "])\n",
    "display(A)\n",
    "display(A.rref())"
   ]
  },
  {
   "cell_type": "code",
   "execution_count": 163,
   "metadata": {},
   "outputs": [
    {
     "data": {
      "text/latex": [
       "$\\displaystyle \\left[\\begin{matrix}3 & 2\\\\2 & 3\\end{matrix}\\right]$"
      ],
      "text/plain": [
       "Matrix([\n",
       "[3, 2],\n",
       "[2, 3]])"
      ]
     },
     "metadata": {},
     "output_type": "display_data"
    },
    {
     "data": {
      "text/latex": [
       "$\\displaystyle \\left[\\begin{matrix}1\\\\0\\end{matrix}\\right]$"
      ],
      "text/plain": [
       "Matrix([\n",
       "[1],\n",
       "[0]])"
      ]
     },
     "metadata": {},
     "output_type": "display_data"
    },
    {
     "data": {
      "text/plain": [
       "(Matrix([\n",
       " [1, 0,  3/5],\n",
       " [0, 1, -2/5]]),\n",
       " (0, 1))"
      ]
     },
     "metadata": {},
     "output_type": "display_data"
    }
   ],
   "source": [
    "#dirty  steps for least-square\n",
    "A = Matrix([\n",
    "    [1,1],\n",
    "    [1,0],\n",
    "    [-1,-1],\n",
    "    [0,-1]\n",
    "])\n",
    "v = Matrix([\n",
    "    [3],\n",
    "    [-1],\n",
    "    [1],\n",
    "    [2]\n",
    "])\n",
    "At = A.T@A\n",
    "Atv = A.T@v\n",
    "\n",
    "display(At)\n",
    "display(Atv)\n",
    "\n",
    "An = Matrix([\n",
    "    [3,2,1],\n",
    "    [2,3,0]\n",
    "])\n",
    "display(An.rref())"
   ]
  },
  {
   "cell_type": "code",
   "execution_count": 173,
   "metadata": {},
   "outputs": [
    {
     "data": {
      "text/plain": [
       "(Matrix([\n",
       " [1, 0, 0,    3/4],\n",
       " [0, 1, 0, -19/20],\n",
       " [0, 0, 1,  21/20]]),\n",
       " (0, 1, 2))"
      ]
     },
     "metadata": {},
     "output_type": "display_data"
    }
   ],
   "source": [
    "A = Matrix([\n",
    "    [0,0,1],\n",
    "    [1,1,1],\n",
    "    [4,2,1],\n",
    "    [9,3,1]\n",
    "])\n",
    "v = Matrix([\n",
    "    [1],\n",
    "    [1],\n",
    "    [2],\n",
    "    [5]\n",
    "])\n",
    "\n",
    "AtA = A.T@A\n",
    "Atv = A.T@v\n",
    "z = AtA.row_join(Atv)\n",
    "display(z.rref())"
   ]
  },
  {
   "cell_type": "code",
   "execution_count": 179,
   "metadata": {},
   "outputs": [
    {
     "data": {
      "text/latex": [
       "$\\displaystyle \\left[\\begin{matrix}5 & 0 & 17\\\\0 & 2 & -5\\end{matrix}\\right]$"
      ],
      "text/plain": [
       "Matrix([\n",
       "[5, 0, 17],\n",
       "[0, 2, -5]])"
      ]
     },
     "metadata": {},
     "output_type": "display_data"
    },
    {
     "data": {
      "text/plain": [
       "(Matrix([\n",
       " [1, 0, 17/5],\n",
       " [0, 1, -5/2]]),\n",
       " (0, 1))"
      ]
     },
     "metadata": {},
     "output_type": "display_data"
    }
   ],
   "source": [
    "A = Matrix([\n",
    "    [1,0],\n",
    "    [1,1],\n",
    "    [1,0],\n",
    "    [1,-1],\n",
    "    [1,0]\n",
    "])\n",
    "v= Matrix([\n",
    "    [3],\n",
    "    [1],\n",
    "    [5],\n",
    "    [6],\n",
    "    [2]\n",
    "])\n",
    "AtA = A.T@A\n",
    "Atv = A.T@v\n",
    "z = AtA.row_join(Atv)\n",
    "display(z)\n",
    "display(z.rref())"
   ]
  },
  {
   "cell_type": "code",
   "execution_count": 4,
   "metadata": {},
   "outputs": [
    {
     "data": {
      "text/latex": [
       "$\\displaystyle \\left[\\begin{matrix}6 & -1 & -5\\\\-1 & 6 & 9\\end{matrix}\\right]$"
      ],
      "text/plain": [
       "Matrix([\n",
       "[ 6, -1, -5],\n",
       "[-1,  6,  9]])"
      ]
     },
     "metadata": {},
     "output_type": "display_data"
    },
    {
     "data": {
      "text/plain": [
       "(Matrix([\n",
       " [1, 0, -3/5],\n",
       " [0, 1,  7/5]]),\n",
       " (0, 1))"
      ]
     },
     "metadata": {},
     "output_type": "display_data"
    }
   ],
   "source": [
    "A = Matrix([\n",
    "    [-2,1],\n",
    "    [1,-1],\n",
    "    [1,2]\n",
    "])\n",
    "v = Matrix([\n",
    "    [2],\n",
    "    [-3],\n",
    "    [2]\n",
    "])\n",
    "\n",
    "AtA = A.T@A\n",
    "Atv = A.T@v\n",
    "z = AtA.row_join(Atv)\n",
    "display(z)\n",
    "display(z.rref())"
   ]
  },
  {
   "cell_type": "code",
   "execution_count": 8,
   "metadata": {},
   "outputs": [
    {
     "data": {
      "text/latex": [
       "$\\displaystyle \\left[\\begin{matrix}-1 & 0 & 1 & 2 & 3 & 5\\\\1 & 1 & 1 & 1 & 1 & 1\\end{matrix}\\right]$"
      ],
      "text/plain": [
       "Matrix([\n",
       "[-1, 0, 1, 2, 3, 5],\n",
       "[ 1, 1, 1, 1, 1, 1]])"
      ]
     },
     "metadata": {},
     "output_type": "display_data"
    },
    {
     "data": {
      "text/latex": [
       "$\\displaystyle \\left[\\begin{matrix}1\\\\5\\\\3\\\\8\\\\11\\\\12\\end{matrix}\\right]$"
      ],
      "text/plain": [
       "Matrix([\n",
       "[ 1],\n",
       "[ 5],\n",
       "[ 3],\n",
       "[ 8],\n",
       "[11],\n",
       "[12]])"
      ]
     },
     "metadata": {},
     "output_type": "display_data"
    },
    {
     "data": {
      "text/latex": [
       "$\\displaystyle \\left[\\begin{matrix}40 & 10\\\\10 & 6\\end{matrix}\\right]$"
      ],
      "text/plain": [
       "Matrix([\n",
       "[40, 10],\n",
       "[10,  6]])"
      ]
     },
     "metadata": {},
     "output_type": "display_data"
    },
    {
     "data": {
      "text/latex": [
       "$\\displaystyle \\left[\\begin{matrix}111\\\\40\\end{matrix}\\right]$"
      ],
      "text/plain": [
       "Matrix([\n",
       "[111],\n",
       "[ 40]])"
      ]
     },
     "metadata": {},
     "output_type": "display_data"
    },
    {
     "data": {
      "text/latex": [
       "$\\displaystyle \\left[\\begin{matrix}40 & 10 & 111\\\\10 & 6 & 40\\end{matrix}\\right]$"
      ],
      "text/plain": [
       "Matrix([\n",
       "[40, 10, 111],\n",
       "[10,  6,  40]])"
      ]
     },
     "metadata": {},
     "output_type": "display_data"
    },
    {
     "data": {
      "text/plain": [
       "(Matrix([\n",
       " [1, 0, 19/10],\n",
       " [0, 1,   7/2]]),\n",
       " (0, 1))"
      ]
     },
     "metadata": {},
     "output_type": "display_data"
    }
   ],
   "source": [
    "\n",
    "\n",
    "A = Matrix([\n",
    "    [-1,1],\n",
    "    [0,1],\n",
    "    [1,1],\n",
    "    [2,1],\n",
    "    [3,1],\n",
    "    [5,1]\n",
    "])\n",
    "v = Matrix([\n",
    "    [1],\n",
    "    [5],\n",
    "    [3],\n",
    "    [8],\n",
    "    [11],\n",
    "    [12]\n",
    "])\n",
    "\n",
    "AtA = A.T@A\n",
    "Atv = A.T@v\n",
    "z = AtA.row_join(Atv)\n",
    "display(A.T)\n",
    "display(v)\n",
    "display(AtA)\n",
    "display(Atv)\n",
    "display(z)\n",
    "display(z.rref())"
   ]
  },
  {
   "cell_type": "code",
   "execution_count": 21,
   "metadata": {},
   "outputs": [
    {
     "data": {
      "text/latex": [
       "$\\displaystyle \\left[\\begin{matrix}0 & 0 & 0 & 1\\\\0 & 0 & 1 & 1\\\\1 & 1 & 1 & 1\\\\1 & 1 & 2 & 1\\\\4 & 2 & 0 & 1\\\\9 & 3 & 2 & 1\\end{matrix}\\right]$"
      ],
      "text/plain": [
       "Matrix([\n",
       "[0, 0, 0, 1],\n",
       "[0, 0, 1, 1],\n",
       "[1, 1, 1, 1],\n",
       "[1, 1, 2, 1],\n",
       "[4, 2, 0, 1],\n",
       "[9, 3, 2, 1]])"
      ]
     },
     "metadata": {},
     "output_type": "display_data"
    },
    {
     "data": {
      "text/latex": [
       "$\\displaystyle \\left[\\begin{matrix}5\\\\8\\\\9\\\\10\\\\10\\\\20\\end{matrix}\\right]$"
      ],
      "text/plain": [
       "Matrix([\n",
       "[ 5],\n",
       "[ 8],\n",
       "[ 9],\n",
       "[10],\n",
       "[10],\n",
       "[20]])"
      ]
     },
     "metadata": {},
     "output_type": "display_data"
    },
    {
     "data": {
      "text/latex": [
       "$\\displaystyle \\left[\\begin{matrix}99 & 37 & 21 & 15\\\\37 & 15 & 9 & 7\\\\21 & 9 & 10 & 6\\\\15 & 7 & 6 & 6\\end{matrix}\\right]$"
      ],
      "text/plain": [
       "Matrix([\n",
       "[99, 37, 21, 15],\n",
       "[37, 15,  9,  7],\n",
       "[21,  9, 10,  6],\n",
       "[15,  7,  6,  6]])"
      ]
     },
     "metadata": {},
     "output_type": "display_data"
    },
    {
     "data": {
      "text/latex": [
       "$\\displaystyle \\left[\\begin{matrix}239\\\\99\\\\77\\\\62\\end{matrix}\\right]$"
      ],
      "text/plain": [
       "Matrix([\n",
       "[239],\n",
       "[ 99],\n",
       "[ 77],\n",
       "[ 62]])"
      ]
     },
     "metadata": {},
     "output_type": "display_data"
    },
    {
     "data": {
      "text/latex": [
       "$\\displaystyle \\left[\\begin{matrix}99 & 37 & 21 & 15 & 239\\\\37 & 15 & 9 & 7 & 99\\\\21 & 9 & 10 & 6 & 77\\\\15 & 7 & 6 & 6 & 62\\end{matrix}\\right]$"
      ],
      "text/plain": [
       "Matrix([\n",
       "[99, 37, 21, 15, 239],\n",
       "[37, 15,  9,  7,  99],\n",
       "[21,  9, 10,  6,  77],\n",
       "[15,  7,  6,  6,  62]])"
      ]
     },
     "metadata": {},
     "output_type": "display_data"
    },
    {
     "data": {
      "text/plain": [
       "(Matrix([\n",
       " [1, 0, 0, 0,  5/4],\n",
       " [0, 1, 0, 0, -1/4],\n",
       " [0, 0, 1, 0,    2],\n",
       " [0, 0, 0, 1, 11/2]]),\n",
       " (0, 1, 2, 3))"
      ]
     },
     "metadata": {},
     "output_type": "display_data"
    }
   ],
   "source": [
    "# only -x-\n",
    "# Matrix([\n",
    "#  [1, 0, 0, 0, 27/20],\n",
    "#  [0, 1, 0, 0,  1/20],\n",
    "#  [0, 0, 1, 1, 69/10],\n",
    "#  [0, 0, 0, 0,     0]])\n",
    "# only -y-\n",
    "# Matrix([\n",
    "#  [1, 1, 0, 1, 79/12],\n",
    "#  [0, 0, 1, 0,  15/4],\n",
    "#  [0, 0, 0, 0,     0],\n",
    "#  [0, 0, 0, 0,     0]])\n",
    "\n",
    "A = Matrix([\n",
    "    [0,0,0,1],\n",
    "    [0,0,1,1],\n",
    "    [1,1,1,1],\n",
    "    [1,1,2,1],\n",
    "    [4,2,0,1],\n",
    "    [9,3,2,1]\n",
    "])\n",
    "v = Matrix([\n",
    "    [5],\n",
    "    [8],\n",
    "    [9],\n",
    "    [10],\n",
    "    [10],\n",
    "    [20]\n",
    "])\n",
    "\n",
    "AtA = A.T@A\n",
    "Atv = A.T@v\n",
    "z = AtA.row_join(Atv)\n",
    "display(A)\n",
    "display(v)\n",
    "display(AtA)\n",
    "display(Atv)\n",
    "display(z)\n",
    "display(z.rref())"
   ]
  }
 ],
 "metadata": {
  "kernelspec": {
   "display_name": "Python 3",
   "language": "python",
   "name": "python3"
  },
  "language_info": {
   "codemirror_mode": {
    "name": "ipython",
    "version": 3
   },
   "file_extension": ".py",
   "mimetype": "text/x-python",
   "name": "python",
   "nbconvert_exporter": "python",
   "pygments_lexer": "ipython3",
   "version": "3.8.5"
  }
 },
 "nbformat": 4,
 "nbformat_minor": 4
}
